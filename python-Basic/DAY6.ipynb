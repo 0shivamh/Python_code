{
 "cells": [
  {
   "cell_type": "code",
   "execution_count": 4,
   "metadata": {},
   "outputs": [],
   "source": [
    "#file Handling\n",
    "f=open(\"t.txt\",'w')\n",
    "f.write(\"Hello\")\n",
    "f.close()"
   ]
  },
  {
   "cell_type": "code",
   "execution_count": 11,
   "metadata": {},
   "outputs": [
    {
     "name": "stdout",
     "output_type": "stream",
     "text": [
      "Hi Shivam\n",
      "\n"
     ]
    }
   ],
   "source": [
    "f=open(\"Hello.txt\",'r')\n",
    "print(f.read())\n",
    "f.close()"
   ]
  },
  {
   "cell_type": "code",
   "execution_count": 12,
   "metadata": {},
   "outputs": [
    {
     "data": {
      "text/plain": [
       "True"
      ]
     },
     "execution_count": 12,
     "metadata": {},
     "output_type": "execute_result"
    }
   ],
   "source": [
    "f.closed"
   ]
  },
  {
   "cell_type": "code",
   "execution_count": 13,
   "metadata": {},
   "outputs": [],
   "source": [
    "f=open(\"t.txt\",'a')\n",
    "f.write(\"Hello Rutuja\")\n",
    "f.close()"
   ]
  },
  {
   "cell_type": "code",
   "execution_count": 17,
   "metadata": {},
   "outputs": [
    {
     "name": "stdout",
     "output_type": "stream",
     "text": [
      "1 Chapter 1: Introduction \n",
      "1.1 Introduction\n",
      "1.1.1 Context\n",
      "1.1.2 Aim and Purpose\n",
      "\n",
      "\n",
      "2. Theoretical Background\n",
      "2.1 Background\n",
      "2.2 Literature Survey \n",
      "\n",
      "3 Analysis \n",
      "3.1 Information Retrieval \n",
      "3.2 Theory Model \n",
      "3.3 Alternative Models/solution \n",
      "3.4 Environmental Consequences\n",
      "\n",
      "Advantegtages\n",
      "\n",
      "4 Realization \n",
      "4.1 Choice of Solution \n",
      "4.2 Equipment/ Choice of Materials (programming ide)\n",
      "4.3 Problems and Solutions\n",
      "\n",
      "\n",
      "5 Results \n",
      "5.1 Design \n",
      "5.2 Functioning \n",
      "5.3 Operation and Maintenance\n",
      "\n",
      "\n",
      "6 Recommendations for Further Work \n",
      "6.1 Design Improvements \n",
      "6.2 Additional Functions\n",
      "6.3 Database Capacity \n",
      "6.4 Humanized Voice Recognition \n",
      "6.5 Improved Interface\n",
      "\n",
      "\n",
      "7.Conclusion\n",
      "\n",
      "8 References & Bibliography\n",
      "8.1 List of References\n",
      "8.2 List of Bibliography\n",
      "\n",
      "\n",
      "\n",
      "\n",
      "\n",
      "\n",
      "\n"
     ]
    }
   ],
   "source": [
    "f=open(\"work.txt\",'r')\n",
    "print(f.read())\n",
    "f.close()"
   ]
  },
  {
   "cell_type": "code",
   "execution_count": 25,
   "metadata": {},
   "outputs": [
    {
     "name": "stdout",
     "output_type": "stream",
     "text": [
      "1 Chapter 1: Introduction \n",
      "\n",
      "1.1 Introduction\n",
      "\n"
     ]
    }
   ],
   "source": [
    "f=open(\"work.txt\",'r')\n",
    "print(f.readline())\n",
    "print(f.readline())\n",
    "f.close()"
   ]
  },
  {
   "cell_type": "code",
   "execution_count": 26,
   "metadata": {},
   "outputs": [
    {
     "name": "stdout",
     "output_type": "stream",
     "text": [
      "['1 Chapter 1: Introduction \\n', '1.1 Introduction\\n', '1.1.1 Context\\n', '1.1.2 Aim and Purpose\\n', '\\n', '\\n', '2. Theoretical Background\\n', '2.1 Background\\n', '2.2 Literature Survey \\n', '\\n', '3 Analysis \\n', '3.1 Information Retrieval \\n', '3.2 Theory Model \\n', '3.3 Alternative Models/solution \\n', '3.4 Environmental Consequences\\n', '\\n', 'Advantegtages\\n', '\\n', '4 Realization \\n', '4.1 Choice of Solution \\n', '4.2 Equipment/ Choice of Materials (programming ide)\\n', '4.3 Problems and Solutions\\n', '\\n', '\\n', '5 Results \\n', '5.1 Design \\n', '5.2 Functioning \\n', '5.3 Operation and Maintenance\\n', '\\n', '\\n', '6 Recommendations for Further Work \\n', '6.1 Design Improvements \\n', '6.2 Additional Functions\\n', '6.3 Database Capacity \\n', '6.4 Humanized Voice Recognition \\n', '6.5 Improved Interface\\n', '\\n', '\\n', '7.Conclusion\\n', '\\n', '8 References & Bibliography\\n', '8.1 List of References\\n', '8.2 List of Bibliography\\n', '\\n', '\\n', '\\n', '\\n', '\\n', '\\n']\n"
     ]
    }
   ],
   "source": [
    "f=open(\"work.txt\",'r')\n",
    "print(f.readlines())\n",
    "#print(f.readline())\n",
    "f.close()"
   ]
  },
  {
   "cell_type": "code",
   "execution_count": 30,
   "metadata": {},
   "outputs": [
    {
     "name": "stdout",
     "output_type": "stream",
     "text": [
      "['HelloHello Rutuja']\n",
      "17\n"
     ]
    }
   ],
   "source": [
    "f=open(\"t.txt\",'r')\n",
    "print(f.readlines())\n",
    "print(f.tell())\n",
    "f.close()"
   ]
  },
  {
   "cell_type": "code",
   "execution_count": 31,
   "metadata": {},
   "outputs": [],
   "source": [
    "import os\n",
    "os.rename(\"t.txt\",'r.txt')"
   ]
  },
  {
   "cell_type": "code",
   "execution_count": 32,
   "metadata": {},
   "outputs": [
    {
     "name": "stdout",
     "output_type": "stream",
     "text": [
      "['HelloHello Rutuja']\n",
      "17\n"
     ]
    }
   ],
   "source": [
    "f=open(\"r.txt\",'r')\n",
    "print(f.readlines())\n",
    "print(f.tell())\n",
    "f.close()"
   ]
  },
  {
   "cell_type": "code",
   "execution_count": 33,
   "metadata": {},
   "outputs": [
    {
     "name": "stdout",
     "output_type": "stream",
     "text": [
      "created\n"
     ]
    }
   ],
   "source": [
    "import os as o\n",
    "o.mkdir(\"SR\")\n",
    "print(\"created\")"
   ]
  },
  {
   "cell_type": "code",
   "execution_count": 34,
   "metadata": {},
   "outputs": [
    {
     "data": {
      "text/plain": [
       "'/home/shivam/Desktop'"
      ]
     },
     "execution_count": 34,
     "metadata": {},
     "output_type": "execute_result"
    }
   ],
   "source": [
    "o.getcwd()"
   ]
  },
  {
   "cell_type": "code",
   "execution_count": 38,
   "metadata": {},
   "outputs": [],
   "source": [
    "import os\n",
    "os.removedirs('SR')"
   ]
  },
  {
   "cell_type": "code",
   "execution_count": 39,
   "metadata": {},
   "outputs": [
    {
     "data": {
      "text/plain": [
       "['day2.ipynb',\n",
       " 'JSOn.txt',\n",
       " 'corona.py',\n",
       " 'DAY5A.ipynb',\n",
       " 'Hello.txt',\n",
       " 'Ev.py',\n",
       " 'DAY4A.ipynb',\n",
       " 'Speech.py',\n",
       " 'Tast1.py',\n",
       " 'URL.py',\n",
       " 'Day3.ipynb',\n",
       " 'FIl.py',\n",
       " 'Pong.py',\n",
       " 'A3.py',\n",
       " 'Ob.py',\n",
       " 'Game.py',\n",
       " 'new.cpp',\n",
       " 'File.py',\n",
       " 'chrome-bojccfnmcnekjgjhcaklmcgofnngpjcl-Default.desktop',\n",
       " 'Fun.py',\n",
       " '.ipynb_checkpoints',\n",
       " 'Day2A.py',\n",
       " 'A2.py',\n",
       " 'r.txt',\n",
       " 'cla.py',\n",
       " 'DAY5.ipynb',\n",
       " 'DAY3A.ipynb',\n",
       " 'Camera.py',\n",
       " '__pycache__',\n",
       " 'Task.py',\n",
       " 'work.txt',\n",
       " 'DAY6.ipynb',\n",
       " 'Object.py',\n",
       " 'HAckerrank',\n",
       " 'Pr.py',\n",
       " 'Day1.ipynb',\n",
       " 'JAVA',\n",
       " 'Pyadda.py',\n",
       " 'Ans.py',\n",
       " 'cwipedia.py',\n",
       " 'Pos.py',\n",
       " 'Day4.ipynb',\n",
       " 'Next.py']"
      ]
     },
     "execution_count": 39,
     "metadata": {},
     "output_type": "execute_result"
    }
   ],
   "source": [
    "import os\n",
    "os.listdir()"
   ]
  },
  {
   "cell_type": "markdown",
   "metadata": {},
   "source": [
    "# Exception Handling\n"
   ]
  },
  {
   "cell_type": "code",
   "execution_count": 62,
   "metadata": {},
   "outputs": [
    {
     "name": "stdout",
     "output_type": "stream",
     "text": [
      "1 2\n",
      "0.5\n",
      "Answer is: 0.5\n"
     ]
    }
   ],
   "source": [
    "try: \n",
    "    a,b=map(int ,input().split())\n",
    "    c=a/b\n",
    "    print(c)\n",
    "except Exception as e:  #except(ValueError,ZeroDivi)\n",
    "    print(\"Error\",e)\n",
    "else:\n",
    "    print(\"Answer is:\",c)"
   ]
  },
  {
   "cell_type": "code",
   "execution_count": 65,
   "metadata": {},
   "outputs": [
    {
     "name": "stdout",
     "output_type": "stream",
     "text": [
      "1 0\n",
      "Error division by zero\n",
      "End\n"
     ]
    }
   ],
   "source": [
    "try: \n",
    "    a,b=map(int ,input().split())\n",
    "    c=a/b\n",
    "    print(c)\n",
    "except Exception as e:\n",
    "    print(\"Error\",e)\n",
    "else:\n",
    "    print(\"Answer:\",c)\n",
    "finally:\n",
    "    print(\"End\")"
   ]
  },
  {
   "cell_type": "markdown",
   "metadata": {},
   "source": [
    "# MAP ,Filter, Lamda ,Reduce\n"
   ]
  },
  {
   "cell_type": "code",
   "execution_count": 66,
   "metadata": {},
   "outputs": [
    {
     "name": "stdout",
     "output_type": "stream",
     "text": [
      "25\n"
     ]
    }
   ],
   "source": [
    "def s(a):\n",
    "    return a*a\n",
    "x=s(5)\n",
    "print(x)"
   ]
  },
  {
   "cell_type": "code",
   "execution_count": 70,
   "metadata": {},
   "outputs": [
    {
     "name": "stdout",
     "output_type": "stream",
     "text": [
      "[1, 4, 9]\n"
     ]
    }
   ],
   "source": [
    "def s(a):\n",
    "    return a*a\n",
    "x=map(s,[1,2,3])\n",
    "print(list(x))"
   ]
  },
  {
   "cell_type": "code",
   "execution_count": 73,
   "metadata": {},
   "outputs": [
    {
     "name": "stdout",
     "output_type": "stream",
     "text": [
      "[2, 4, 6, 8]\n"
     ]
    }
   ],
   "source": [
    "def s(a,b):\n",
    "    return a+b\n",
    "x=map(s,[1,2,3,4,5],[1,2,3,4])\n",
    "print(list(x))"
   ]
  },
  {
   "cell_type": "code",
   "execution_count": 75,
   "metadata": {},
   "outputs": [
    {
     "name": "stdout",
     "output_type": "stream",
     "text": [
      "3\n"
     ]
    }
   ],
   "source": [
    "x=lambda a,b:a+b\n",
    "print(x(1,2))"
   ]
  },
  {
   "cell_type": "code",
   "execution_count": 4,
   "metadata": {
    "scrolled": true
   },
   "outputs": [
    {
     "name": "stdout",
     "output_type": "stream",
     "text": [
      "<function a.<locals>.<lambda> at 0x7f2f2812c200>\n",
      "9\n"
     ]
    }
   ],
   "source": [
    "def a(x):\n",
    "    return lambda y:x+y\n",
    "\n",
    "t=a(4)\n",
    "print(t)\n",
    "print(t(5))\n"
   ]
  },
  {
   "cell_type": "code",
   "execution_count": 5,
   "metadata": {},
   "outputs": [
    {
     "name": "stdout",
     "output_type": "stream",
     "text": [
      "12\n"
     ]
    }
   ],
   "source": [
    "x=lambda a,b:8*a+b*2\n",
    "print(x(1,2))"
   ]
  },
  {
   "cell_type": "code",
   "execution_count": 8,
   "metadata": {},
   "outputs": [
    {
     "name": "stdout",
     "output_type": "stream",
     "text": [
      "[1, 2, 3, 4]\n",
      "[4, 5, 6, 7]\n"
     ]
    }
   ],
   "source": [
    "l=[1,2,3,4]\n",
    "print(l)\n",
    "r=map(lambda x:x+3,l)\n",
    "print(list(r))"
   ]
  },
  {
   "cell_type": "code",
   "execution_count": 15,
   "metadata": {},
   "outputs": [
    {
     "name": "stdout",
     "output_type": "stream",
     "text": [
      "[2, 3]\n"
     ]
    }
   ],
   "source": [
    "#filter\n",
    "def a(n):\n",
    "    if n>=2:\n",
    "        return n\n",
    "x=filter(a,[1,2,3])\n",
    "print(list(x))"
   ]
  },
  {
   "cell_type": "code",
   "execution_count": 17,
   "metadata": {},
   "outputs": [
    {
     "name": "stdout",
     "output_type": "stream",
     "text": [
      "10\n"
     ]
    }
   ],
   "source": [
    "#reduce\n",
    "from functools import reduce\n",
    "def sq(a,b):\n",
    "    return a+b\n",
    "x=reduce(sq,[1,2,3,4])\n",
    "print(x)"
   ]
  },
  {
   "cell_type": "code",
   "execution_count": null,
   "metadata": {},
   "outputs": [],
   "source": []
  }
 ],
 "metadata": {
  "kernelspec": {
   "display_name": "Python 3",
   "language": "python",
   "name": "python3"
  },
  "language_info": {
   "codemirror_mode": {
    "name": "ipython",
    "version": 3
   },
   "file_extension": ".py",
   "mimetype": "text/x-python",
   "name": "python",
   "nbconvert_exporter": "python",
   "pygments_lexer": "ipython3",
   "version": "3.7.5"
  }
 },
 "nbformat": 4,
 "nbformat_minor": 4
}
