{
 "cells": [
  {
   "cell_type": "code",
   "execution_count": 5,
   "metadata": {},
   "outputs": [
    {
     "name": "stdout",
     "output_type": "stream",
     "text": [
      "Enter two no:\n",
      "1\n",
      "2\n",
      "Addition: 3\n"
     ]
    }
   ],
   "source": [
    "print(\"Enter two no:\")\n",
    "a=input()\n",
    "b=input()\n",
    "c=int(a)+int(b)\n",
    "print(\"Addition:\",c)"
   ]
  },
  {
   "cell_type": "code",
   "execution_count": 7,
   "metadata": {},
   "outputs": [
    {
     "name": "stdout",
     "output_type": "stream",
     "text": [
      "Enter:1 2\n",
      "Addition: 3\n"
     ]
    }
   ],
   "source": [
    "a,b=map(int, input(\"Enter:\").split())\n",
    "print(\"Addition:\",a+b)"
   ]
  },
  {
   "cell_type": "code",
   "execution_count": 9,
   "metadata": {},
   "outputs": [
    {
     "name": "stdout",
     "output_type": "stream",
     "text": [
      "8.333333333333334\n"
     ]
    }
   ],
   "source": [
    "def avg(n1=2,n2=1,n3=0):\n",
    "    s=n1+n2+n3\n",
    "    print(s/3)\n",
    "avg(n1=21,n3=3)    "
   ]
  },
  {
   "cell_type": "code",
   "execution_count": 11,
   "metadata": {},
   "outputs": [
    {
     "data": {
      "text/plain": [
       "str"
      ]
     },
     "execution_count": 11,
     "metadata": {},
     "output_type": "execute_result"
    }
   ],
   "source": [
    "s=\"Shivam\"\n",
    "type(s)"
   ]
  },
  {
   "cell_type": "code",
   "execution_count": 12,
   "metadata": {},
   "outputs": [
    {
     "data": {
      "text/plain": [
       "'h'"
      ]
     },
     "execution_count": 12,
     "metadata": {},
     "output_type": "execute_result"
    }
   ],
   "source": [
    "s[1]"
   ]
  },
  {
   "cell_type": "code",
   "execution_count": 13,
   "metadata": {},
   "outputs": [
    {
     "data": {
      "text/plain": [
       "'v'"
      ]
     },
     "execution_count": 13,
     "metadata": {},
     "output_type": "execute_result"
    }
   ],
   "source": [
    "s[-3]"
   ]
  },
  {
   "cell_type": "code",
   "execution_count": 14,
   "metadata": {},
   "outputs": [
    {
     "name": "stdout",
     "output_type": "stream",
     "text": [
      "achi\n",
      "Machi\n",
      "ne Learning\n",
      "gninraeL enihcaM\n",
      "Learn\n"
     ]
    }
   ],
   "source": [
    "#String slicing\n",
    "s=\"Machine Learning\" \n",
    "print(s[1:5])\n",
    "print(s[:5])\n",
    "print(s[5:])\n",
    "print(s[::-1])\n",
    "print(s[-8:-3])"
   ]
  },
  {
   "cell_type": "code",
   "execution_count": 48,
   "metadata": {},
   "outputs": [
    {
     "name": "stdout",
     "output_type": "stream",
     "text": [
      "ShivamShivamShivamShivam\n",
      "sHIVAM\n",
      "False\n",
      "SHIVAM\n",
      "shivam\n",
      "Shivem\n",
      "Shivam\n",
      "Shivam\n",
      "v\n",
      "S\n",
      "27\n",
      "just enother plAce to leern\n",
      "Just another place to learn\n"
     ]
    }
   ],
   "source": [
    "s1=\"Shivam\"\n",
    "s2=\"Hande\"\n",
    "print(s1*4)\n",
    "print(s1.swapcase())\n",
    "print(s1.isdigit())\n",
    "print(s1.upper())\n",
    "print(s1.lower())\n",
    "print(s1.replace('a','e'))\n",
    "print(s1)\n",
    "print(s1.replace('e','a'))\n",
    "print(max(s1))\n",
    "print(min(s1))\n",
    "s3=\"just another plAce to learn\"\n",
    "print(len(s3))\n",
    "print(s3.replace('a','e'))\n",
    "print(s3.capitalize())"
   ]
  },
  {
   "cell_type": "code",
   "execution_count": 37,
   "metadata": {},
   "outputs": [
    {
     "data": {
      "text/plain": [
       "True"
      ]
     },
     "execution_count": 37,
     "metadata": {},
     "output_type": "execute_result"
    }
   ],
   "source": [
    "s=\"Machinen\"\n",
    "'M' in s"
   ]
  },
  {
   "cell_type": "code",
   "execution_count": 42,
   "metadata": {
    "scrolled": true
   },
   "outputs": [
    {
     "name": "stdout",
     "output_type": "stream",
     "text": [
      "7\n"
     ]
    }
   ],
   "source": [
    "print(s.find('n',6,8))# srt start end "
   ]
  },
  {
   "cell_type": "code",
   "execution_count": 45,
   "metadata": {
    "scrolled": true
   },
   "outputs": [
    {
     "data": {
      "text/plain": [
       "False"
      ]
     },
     "execution_count": 45,
     "metadata": {},
     "output_type": "execute_result"
    }
   ],
   "source": [
    "s=\"22shivam\"\n",
    "print(s.isalpha())"
   ]
  },
  {
   "cell_type": "code",
   "execution_count": 46,
   "metadata": {},
   "outputs": [
    {
     "name": "stdout",
     "output_type": "stream",
     "text": [
      "palidrome\n"
     ]
    }
   ],
   "source": [
    "s=\"MOM\"\n",
    "s2=s[::-1]\n",
    "if s==s2:\n",
    "    print(\"palidrome\")\n",
    "else:\n",
    "    print(\"not\")"
   ]
  },
  {
   "cell_type": "markdown",
   "metadata": {},
   "source": [
    "# List"
   ]
  },
  {
   "cell_type": "code",
   "execution_count": 4,
   "metadata": {},
   "outputs": [
    {
     "name": "stdout",
     "output_type": "stream",
     "text": [
      "(1, 2.3)\n",
      "('s',)\n",
      "()\n"
     ]
    }
   ],
   "source": [
    "def var(*a):#accept multiple value using *\n",
    "    print(a)\n",
    "var(1,2.3)\n",
    "var(\"s\")\n",
    "var()\n",
    "#varible length argument by default it take values as tuple\n"
   ]
  },
  {
   "cell_type": "code",
   "execution_count": null,
   "metadata": {},
   "outputs": [],
   "source": []
  }
 ],
 "metadata": {
  "kernelspec": {
   "display_name": "Python 3",
   "language": "python",
   "name": "python3"
  },
  "language_info": {
   "codemirror_mode": {
    "name": "ipython",
    "version": 3
   },
   "file_extension": ".py",
   "mimetype": "text/x-python",
   "name": "python",
   "nbconvert_exporter": "python",
   "pygments_lexer": "ipython3",
   "version": "3.7.5"
  }
 },
 "nbformat": 4,
 "nbformat_minor": 4
}
